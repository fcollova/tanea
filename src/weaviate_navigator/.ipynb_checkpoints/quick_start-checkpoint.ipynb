{
 "cells": [
  {
   "cell_type": "markdown",
   "metadata": {},
   "source": [
    "# ⚡ Quick Start - Weaviate Explorer\n",
    "\n",
    "Notebook di avvio rapido per esplorare il database Weaviate."
   ]
  },
  {
   "cell_type": "code",
   "execution_count": null,
   "metadata": {},
   "outputs": [],
   "source": [
    "# Quick setup\n",
    "import sys\n",
    "sys.path.append('/home/jovyan/work/src')\n",
    "\n",
    "from weaviate_navigator.utils.weaviate_client import WeaviateExplorer\n",
    "from weaviate_navigator.utils.visualizations import NewsVisualizer\n",
    "import pandas as pd\n",
    "\n",
    "print(\"✅ Setup completato!\")"
   ]
  },
  {
   "cell_type": "code",
   "execution_count": null,
   "metadata": {},
   "outputs": [],
   "source": [
    "# Connetti a Weaviate\n",
    "explorer = WeaviateExplorer()\n",
    "visualizer = NewsVisualizer()\n",
    "\n",
    "# Info schema\n",
    "info = explorer.get_schema_info()\n",
    "print(f\"📊 Classes: {info.get('classes', [])}\")\n",
    "for cls in info.get('classes', []):\n",
    "    count = info.get(f'{cls}_count', 0)\n",
    "    print(f\"   {cls}: {count:,} oggetti\")"
   ]
  },
  {
   "cell_type": "code",
   "execution_count": null,
   "metadata": {},
   "outputs": [],
   "source": [
    "# Carica articoli\n",
    "df = explorer.get_all_articles(limit=500)\n",
    "\n",
    "if df is not None:\n",
    "    print(f\"📰 Caricati {len(df):,} articoli\")\n",
    "    print(f\"🏷️  Domini: {df['domain'].unique()}\")\n",
    "    print(f\"📅 Periodo: {df['date'].min()} - {df['date'].max()}\")\n",
    "    \n",
    "    # Primi 5 articoli\n",
    "    display(df[['title', 'domain', 'source', 'date']].head())\n",
    "else:\n",
    "    print(\"❌ Nessun articolo trovato\")"
   ]
  },
  {
   "cell_type": "code",
   "execution_count": null,
   "metadata": {},
   "outputs": [],
   "source": [
    "# Ricerca semantica rapida\n",
    "if df is not None:\n",
    "    query = \"juventus milan inter\"\n",
    "    results = explorer.semantic_search(query, limit=5)\n",
    "    \n",
    "    if results is not None:\n",
    "        print(f\"🔍 Risultati per '{query}':\")\n",
    "        display(results[['title', 'domain', 'similarity']].head())\n",
    "    else:\n",
    "        print(\"❌ Nessun risultato trovato\")"
   ]
  },
  {
   "cell_type": "code",
   "execution_count": null,
   "metadata": {},
   "outputs": [],
   "source": [
    "# Visualizzazione rapida\n",
    "if df is not None:\n",
    "    # Distribuzione domini\n",
    "    fig_domain = visualizer.domain_distribution_pie(df)\n",
    "    fig_domain.show()\n",
    "    \n",
    "    # Timeline\n",
    "    if 'date' in df.columns:\n",
    "        fig_timeline = visualizer.articles_timeline(df)\n",
    "        if fig_timeline:\n",
    "            fig_timeline.show()"
   ]
  },
  {
   "cell_type": "markdown",
   "metadata": {},
   "source": [
    "## 🎯 Prossimi Passi\n",
    "\n",
    "- Apri `weaviate_dashboard.ipynb` per dashboard completa\n",
    "- Esplora funzioni avanzate di ricerca e filtraggio\n",
    "- Personalizza visualizzazioni per le tue esigenze"
   ]
  }
 ],
 "metadata": {
  "kernelspec": {
   "display_name": "Python 3",
   "language": "python",
   "name": "python3"
  },
  "language_info": {
   "codemirror_mode": {
    "name": "ipython",
    "version": 3
   },
   "file_extension": ".py",
   "mimetype": "text/x-python",
   "name": "python",
   "nbconvert_exporter": "python",
   "pygments_lexer": "ipython3",
   "version": "3.11.0"
  }
 },
 "nbformat": 4,
 "nbformat_minor": 4
}